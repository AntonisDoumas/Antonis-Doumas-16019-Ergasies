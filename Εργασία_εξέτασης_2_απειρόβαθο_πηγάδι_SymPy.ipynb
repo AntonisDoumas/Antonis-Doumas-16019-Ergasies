{
 "cells": [
  {
   "cell_type": "markdown",
   "id": "d0aa07b8",
   "metadata": {},
   "source": [
    "**ΤΜΗΜΑ ΦΥΣΙΚΗΣ - ΑΡΙΣΤΟΤΕΛΕΙΟ ΠΑΝΕΠΙΣΤΗΜΙΟ ΘΕΣΣΑΛΟΝΙΚΗΣ**<br>\n",
    "**ΜΑΘΗΜΑ: Προβλήματα Κβαντικής Φυσικής [ΓΘΕ204]**<br>\n",
    "**ΑΚΑΔΗΜΑΪΚΟ ΕΤΟΣ: 2024-2025**\n",
    "\n",
    "**Εξεταστική Ιουνίου 2025**\n",
    "\n",
    "**Ημέρα εξέτασης: 17/6/2025**\n",
    "\n",
    "**Εργασία τελικής εξέτασης**:\n",
    "Να αποσταλλεί το συμπληρωμένο αρχείο την παραμονή της εξέτασης, **16/6/2025 μέχρι τις 12 το μεσημέρι**, στα email thdiakonidis@auth.gr, istergak@auth.gr \n",
    "\n",
    "Σε περίπτωση που εφαρμόσετε όλα τα αποτελέσματά σας σε μια κλάση έχετε bonus μια μονάδα."
   ]
  },
  {
   "cell_type": "markdown",
   "id": "1c4b67c7",
   "metadata": {},
   "source": [
    "# **ΕΡΓΑΣΙΑ ΤΕΛΙΚΗΣ ΕΞΕΤΑΣΗΣ:<br> Μελέτη του απειρόβαθου φρέατος δυναμικού με τη χρήση της `SymPy`**"
   ]
  },
  {
   "cell_type": "markdown",
   "id": "78b9374b",
   "metadata": {},
   "source": [
    "## Eισαγωγή\n",
    "\n",
    "**Στοιχεία θεωρίας**:\n",
    "1. ***σελ. 50-51, ΣΗΜΕΙΩΣΕΙΣ ΚΒΑΝΤΟΜΗΧΑΝΙΚΗΣ Ι - Σ.Η.ΜΑΣΕΝ***\n",
    "2. ***σελ. 231-233, Quantum Mechanics: Concepts and Applications - Nouredine Zettili***\n",
    "\n",
    "\n",
    "Σε αυτή την εργασία θα μελετήσετε την παρουσία ενός κβαντικού σωματιδίου μάζας $m$ εντός ενός φρέατος δυναμικού απείρου βάθους. Η μαθηματική έκφραση του δυναμικού για το ασσύμετρο φρέαρ σε μια διάσταση δίνεται παρακάτω:\n",
    "$$\\begin{matrix}\n",
    "V(x)=\n",
    "\\begin{cases}\n",
    "\\infty,& x<0 \\\\\n",
    "0,& 0<x<L \\\\\n",
    "\\infty,& x>L \n",
    "\\end{cases} & (1)\n",
    "\\end{matrix}\n",
    "$$\n",
    "\n",
    "Συνεπώς, στις περιοχές $x<0$ και $x>L$, όπου το δυναμικό απειρίζεται, η κυματοσυνάρτηση είναι μηδέν. Στο εσωτερικό όμως του φρέατος, δηλαδή στη περιοχή $0<x<L$, η κυματοσυνάρτηση είναι διαφορετική του μηδενός, έστω με χωρικό μέρος $u(x)$. Δηλαδή, συνολικά για το χωρικό μέρος της κυματοσυνάρτησης $ψ(x)$ του σωματιδίου, έχουμε:\n",
    "$$\\begin{matrix}\n",
    "ψ(x)=\n",
    "\\begin{cases}\n",
    "0,& x<0 \\\\\n",
    "u(x),& 0<x<L \\\\\n",
    "0,& x>L \n",
    "\\end{cases} & (2)\n",
    "\\end{matrix}\n",
    "$$ "
   ]
  },
  {
   "cell_type": "code",
   "execution_count": 4,
   "id": "b555841d",
   "metadata": {},
   "outputs": [],
   "source": [
    "import sympy as smp # Εδώ να εισάγετε τη βιβλιοθήκη SymPy"
   ]
  },
  {
   "cell_type": "markdown",
   "id": "2be3fe58",
   "metadata": {},
   "source": [
    "## Ερώτηση 1: Επίλυση διαφορικής εξίσωσης\n",
    "\n",
    "Η μορφή της $u(x)$ στη σχέση $(2)$ προκύπτει από την επίλυση της εξίσωσης του *Scrodinger* (διαφορικής εξίσωση 2ης τάξης):\n",
    "$$\\begin{matrix}\n",
    "u^{''}(x)+k^2_0u(x)=0, & k^2_0=\\frac{2mE}{\\hbar^2} & (3)\n",
    "\\end{matrix}$$\n",
    "με κατάλληλες συνοριακές συνθήκες και $Ε>0$.\n",
    "\n",
    "Με τη χρήση της `SymPy` να λύσετε την διαφορική εξίσωση των σχέσεων $(3)$ για $k_0>0$:<br>\n",
    "**α)** Χωρίς αρχικές συνθήκες<br>\n",
    "**β)** Με τη χρήση της αρχικής συνθήκης: $u(0)=0$ (πρώτη από τις δύο οριακές συνθήκες)<br>\n",
    "**γ)** Προκύπτουν οι ίδιες λύσεις για $k_0<0$; Εξηγήστε."
   ]
  },
  {
   "cell_type": "code",
   "execution_count": 6,
   "id": "9c2fea26-18e2-40c1-b0d0-67afb8b6df56",
   "metadata": {},
   "outputs": [],
   "source": [
    "class Erotisi1:\n",
    "    def __init__(self):\n",
    "        # Ορισμός συμβόλων\n",
    "        self.x = smp.symbols(\"x\")\n",
    "        self.m, self.E, self.hbar = smp.symbols(\"m E hbar\", positive=True)\n",
    "        self.k0 = smp.symbols(\"k_0\", positive=True)\n",
    "        self.u = smp.Function(\"u\")(self.x)\n",
    "        \n",
    "        # Ορισμός διαφορικής εξίσωσης\n",
    "        self.deq = smp.Eq(self.u.diff(self.x, 2) + self.k0**2 * self.u, 0)\n",
    "\n",
    "    def solve_general(self):\n",
    "        \"\"\"Επιστρέφει τη γενική λύση της διαφορικής εξίσωσης\"\"\"\n",
    "        dsol11 = smp.dsolve(self.deq, self.u)\n",
    "        return smp.simplify(dsol11)\n",
    "\n",
    "    def solve_general_with_substitution(self, i):\n",
    "        \"\"\"Γενική λύση με αντικατάσταση του k_0\"\"\"\n",
    "        k0_sub = i*smp.sqrt(2 * self.m * self.E / self.hbar**2)\n",
    "        dsol12 = self.solve_general()\n",
    "        return dsol12.subs(self.k0, k0_sub)\n",
    "\n",
    "    def solve_with_ics(self):\n",
    "        \"\"\"Λύση με αρχική συνθήκη u(0) = 0\"\"\"\n",
    "        dsol21 = smp.dsolve(self.deq, self.u, ics={self.u.subs(self.x, 0): 0})\n",
    "        return smp.simplify(dsol21)\n",
    "\n",
    "    def solve_with_ics_substitution(self, i):\n",
    "        \"\"\"Λύση με αρχική συνθήκη και αντικατάσταση του k_0\"\"\"\n",
    "        k0_sub = i*smp.sqrt(2 * self.m * self.E / self.hbar**2)\n",
    "        dsol22 = self.solve_with_ics()\n",
    "        return dsol22.subs(self.k0, k0_sub)"
   ]
  },
  {
   "cell_type": "markdown",
   "id": "16ff3d2c-d768-448a-afdd-b9d3a29ac8a8",
   "metadata": {},
   "source": [
    "### α)"
   ]
  },
  {
   "cell_type": "code",
   "execution_count": 8,
   "id": "ea9b0106-0d14-4c29-9add-a935d0c5a3da",
   "metadata": {},
   "outputs": [
    {
     "data": {
      "text/latex": [
       "$\\displaystyle u{\\left(x \\right)} = C_{1} \\sin{\\left(k_{0} x \\right)} + C_{2} \\cos{\\left(k_{0} x \\right)}$"
      ],
      "text/plain": [
       "Eq(u(x), C1*sin(k_0*x) + C2*cos(k_0*x))"
      ]
     },
     "metadata": {},
     "output_type": "display_data"
    },
    {
     "data": {
      "text/latex": [
       "$\\displaystyle u{\\left(x \\right)} = C_{1} \\sin{\\left(\\frac{\\sqrt{2} \\sqrt{E} \\sqrt{m} x}{\\hbar} \\right)} + C_{2} \\cos{\\left(\\frac{\\sqrt{2} \\sqrt{E} \\sqrt{m} x}{\\hbar} \\right)}$"
      ],
      "text/plain": [
       "Eq(u(x), C1*sin(sqrt(2)*sqrt(E)*sqrt(m)*x/hbar) + C2*cos(sqrt(2)*sqrt(E)*sqrt(m)*x/hbar))"
      ]
     },
     "metadata": {},
     "output_type": "display_data"
    }
   ],
   "source": [
    "# Λύση χωρίς αρχικές συνθήκες\n",
    "display(Erotisi1().solve_general())\n",
    "# και με αντικατάσταση του k_0 (θετικό)\n",
    "display(Erotisi1().solve_general_with_substitution(1))"
   ]
  },
  {
   "cell_type": "markdown",
   "id": "d75d53b3-268a-43f3-90f5-45f6dd871902",
   "metadata": {},
   "source": [
    "### β)"
   ]
  },
  {
   "cell_type": "code",
   "execution_count": 10,
   "id": "2eb39f35-938c-46a8-a360-2ce810512957",
   "metadata": {},
   "outputs": [
    {
     "data": {
      "text/latex": [
       "$\\displaystyle u{\\left(x \\right)} = C_{1} \\sin{\\left(k_{0} x \\right)}$"
      ],
      "text/plain": [
       "Eq(u(x), C1*sin(k_0*x))"
      ]
     },
     "metadata": {},
     "output_type": "display_data"
    },
    {
     "data": {
      "text/latex": [
       "$\\displaystyle u{\\left(x \\right)} = C_{1} \\sin{\\left(\\frac{\\sqrt{2} \\sqrt{E} \\sqrt{m} x}{\\hbar} \\right)}$"
      ],
      "text/plain": [
       "Eq(u(x), C1*sin(sqrt(2)*sqrt(E)*sqrt(m)*x/hbar))"
      ]
     },
     "metadata": {},
     "output_type": "display_data"
    }
   ],
   "source": [
    "# Με αρχική συνθήκη u(0)=0\n",
    "display(Erotisi1().solve_with_ics())\n",
    "# και με αντικατάσταση του k_0 (θετικό)\n",
    "display(Erotisi1().solve_with_ics_substitution(1))"
   ]
  },
  {
   "cell_type": "markdown",
   "id": "62dd0ea1-8eb0-4b51-ba10-673684a8ecb0",
   "metadata": {},
   "source": [
    "### γ)"
   ]
  },
  {
   "cell_type": "code",
   "execution_count": 12,
   "id": "91b8badb-306f-4bd5-946f-594fda784896",
   "metadata": {},
   "outputs": [
    {
     "data": {
      "text/latex": [
       "$\\displaystyle u{\\left(x \\right)} = C_{1} \\sin{\\left(k_{0} x \\right)} + C_{2} \\cos{\\left(k_{0} x \\right)}$"
      ],
      "text/plain": [
       "Eq(u(x), C1*sin(k_0*x) + C2*cos(k_0*x))"
      ]
     },
     "metadata": {},
     "output_type": "display_data"
    },
    {
     "data": {
      "text/latex": [
       "$\\displaystyle u{\\left(x \\right)} = - C_{1} \\sin{\\left(\\frac{\\sqrt{2} \\sqrt{E} \\sqrt{m} x}{\\hbar} \\right)} + C_{2} \\cos{\\left(\\frac{\\sqrt{2} \\sqrt{E} \\sqrt{m} x}{\\hbar} \\right)}$"
      ],
      "text/plain": [
       "Eq(u(x), -C1*sin(sqrt(2)*sqrt(E)*sqrt(m)*x/hbar) + C2*cos(sqrt(2)*sqrt(E)*sqrt(m)*x/hbar))"
      ]
     },
     "metadata": {},
     "output_type": "display_data"
    },
    {
     "data": {
      "text/latex": [
       "$\\displaystyle u{\\left(x \\right)} = C_{1} \\sin{\\left(k_{0} x \\right)}$"
      ],
      "text/plain": [
       "Eq(u(x), C1*sin(k_0*x))"
      ]
     },
     "metadata": {},
     "output_type": "display_data"
    },
    {
     "data": {
      "text/latex": [
       "$\\displaystyle u{\\left(x \\right)} = - C_{1} \\sin{\\left(\\frac{\\sqrt{2} \\sqrt{E} \\sqrt{m} x}{\\hbar} \\right)}$"
      ],
      "text/plain": [
       "Eq(u(x), -C1*sin(sqrt(2)*sqrt(E)*sqrt(m)*x/hbar))"
      ]
     },
     "metadata": {},
     "output_type": "display_data"
    }
   ],
   "source": [
    "# Ίδια διαδικασία με k_0 αρνητικό\n",
    "# Λύση χωρίς αρχικές συνθήκες\n",
    "display(Erotisi1().solve_general())\n",
    "# και με αντικατάσταση του k_0\n",
    "display(Erotisi1().solve_general_with_substitution(-1))\n",
    "# Με αρχική συνθήκη u(0)=0\n",
    "display(Erotisi1().solve_with_ics())\n",
    "# και με αντικατάσταση του k_0\n",
    "display(Erotisi1().solve_with_ics_substitution(-1))"
   ]
  },
  {
   "cell_type": "markdown",
   "id": "4764a302-4677-4033-93c8-2f093c327222",
   "metadata": {},
   "source": [
    "Οι λύσεις με το αρνητικό k_0 δίνουν ίδιες λύσεις απλά με διαφορετικό πρόσυμο στο ημίτονο"
   ]
  },
  {
   "cell_type": "markdown",
   "id": "7886af4d",
   "metadata": {},
   "source": [
    "## Ερώτηση 2: Κανονικοποίηση και επαλήθευση\n",
    "\n",
    "Εφόσον η διαφορική εξίσωση της $(3)$ έχει λυθεί σωστά με την συνθήκη $u(0)=0$, η $u(x)$ προκύπτει ίση με:\n",
    "$$\\begin{matrix}\n",
    "u(x) = B sin(k_0x) & (4)\n",
    "\\end{matrix}$$\n",
    "\n",
    "Θα χρησιμοποιήσετε τώρα τη δεύτερη οριακή συνθήκη $u(L)=0$:\n",
    "\n",
    "**α)** Να ορίσετε τη κυματοσυνάρτηση $u$ ως συνάρτηση των $x,B,k_0$ με συμβολικό τύπο σύμφωνα με τη σχέση $(4)$. Να λύσετε την εξίσωση: $u(L)=0$, για $Β\\neq0$, ως προς την μεταβλητή $k_0$. Ποια είναι η πιο κατάλληλη εντολή επίλυσης στην προκειμένη περίπτωση: `solve` ή `solveset`; Εξηγήστε.\n",
    "\n",
    "**β)** Η σωστή επίλυση της εξίσωσης $u(L)=0$, δίνει $k_0=\\frac{n\\pi}{L}$. Επομένως, η κυματοσυνάρτηση $u$ μπορεί να ξαναοριστεί ως συνάρτηση $u_n$ των $x,B,n,L$, ενώ η αντίστοιχη ενεργειακή στάθμη μπορεί πλέον να οριστεί ως συνάρτηση $E_n$ των $n,L,m$. Πραγματοποιήστε σωστά τους παραπάνω ορισμούς και εκτυπώστε την γενική μορφή της κυματοσυνάρτησης $u_n$, καθώς και της αντίστοιχης ενεργειακής στάθμης $Ε_n$.\n",
    "\n",
    "**γ)** Στους προηγούμενους ορισμούς η κυματοσυνάρτηση $u_n$ δεν είναι κανονικοποιημένη. Η σωστή κανονικοποίηση της $u_n$ απαιτεί να ισχύει η συνθήκη:\n",
    "$$\\begin{matrix}\n",
    "I=\\int^L_0|u_n(x)|^2dx=1 & (5)\n",
    "\\end{matrix}$$\n",
    "για οποιαδήποτε τιμή των $n,L$. Φτιάξτε μια διαδικασία (function) της *Python* στην οποία να αποδεικνύετε ότι η αυθαίρετη σταθερά κανονικοποίσης $B$, προκύπτει να είναι ίση με: \n",
    "$$\\begin{matrix}\n",
    "B=\\pm\\sqrt{2/L} & (6)\n",
    "\\end{matrix}$$\n",
    "για οποιαδήποτε τιμή του κβαντικού αριθμού $n$.\n",
    "\n",
    "**δ)** Πλέον, η σωστά κανονικοποιημένη κυματοσυνάρτηση $u_n$ μπορεί να οριστεί μόνο ως συνάρτηση των $x,n,L$, χρησιμοποιώντας μια εκ των δύο τιμών της σχέσης (6). Αφού ορίσετε σωστά την κανονικοποιημένη $u_n$, να εκτυπώσετε την μορφή της $u_n$ και της αντίστοιχης ενεργειακής στάθμης $E_n$ για τις εξής τιμές του κβαντικού αριθμού $n:1,2,3,4$. Nα αποδείξετε, επίσης, ότι οι κυματοσυναρτήσεις $u_n$ αποτελούν ορθοκανονική βάση."
   ]
  },
  {
   "cell_type": "code",
   "execution_count": 15,
   "id": "9deb58a4-4fe8-457e-9090-6fad4d4bb168",
   "metadata": {},
   "outputs": [],
   "source": [
    "class Erotisi2:\n",
    "    def __init__(self):\n",
    "        # Ορισμός συμβόλων\n",
    "        self.x, self.k0, self.B = smp.symbols(\"x k_0 B\", real=True)\n",
    "        self.L = smp.symbols(\"L\", real=True, positive=True, nonzero=True)\n",
    "        self.n = smp.symbols(\"n\", integer=True, positive=True)\n",
    "        self.m = smp.symbols(\"m\", integer=True, positive=True)\n",
    "        self.hbar = smp.symbols(\"hbar\", real=True, positive=True)\n",
    "        self.mass = smp.symbols(\"m\", real=True, positive=True)\n",
    "\n",
    "    def u(self):\n",
    "        \"\"\"α) Μορφή κυματοσυνάρτησης με k_0\"\"\"\n",
    "        return self.B * smp.sin(self.k0 * self.x)\n",
    "\n",
    "    def solve_k0(self):\n",
    "        \"\"\"α) Εύρεση επιτρεπτών τιμών k_0 από την οριακή συνθήκη u(L) = 0\"\"\"\n",
    "        eq = self.u().subs(self.x, self.L)\n",
    "        sol1 = smp.solve(eq, self.k0)\n",
    "        sol2 = smp.solveset(eq, self.k0)\n",
    "        return sol1, smp.simplify(sol2)\n",
    "\n",
    "    def u_n(self):\n",
    "        \"\"\"β) Κυματοσυνάρτηση u_n(x)\"\"\"\n",
    "        return self.B * smp.sin(self.n * smp.pi * self.x / self.L)\n",
    "\n",
    "    def E_n(self):\n",
    "        \"\"\"β) Ενεργειακή στάθμη E_n\"\"\"\n",
    "        return (self.n**2 * smp.pi**2 * self.hbar**2) / (2 * self.mass * self.L**2)\n",
    "\n",
    "    def norm_factor(self):\n",
    "        \"\"\"γ) Κανονικοποίηση της κυματοσυνάρτησης u_n\"\"\"\n",
    "        u_n_expr = self.u_n()\n",
    "        integrand = u_n_expr * smp.conjugate(u_n_expr)\n",
    "        integral = smp.integrate(integrand, (self.x, 0, self.L))\n",
    "        eq = smp.Eq(integral, 1)\n",
    "        return smp.solve(eq, self.B)\n",
    "\n",
    "    def u_n_normalized(self):\n",
    "        \"\"\"δ) Τελική κανονικοποιημένη κυματοσυνάρτηση\"\"\"\n",
    "        B_val = self.norm_factor()[1]\n",
    "        return self.u_n().subs(self.B, B_val)\n",
    "\n",
    "    def get_state(self, n_val):\n",
    "        \"\"\"Επιστρέφει u_n και E_n για συγκεκριμένο n\"\"\"\n",
    "        u = self.u_n_normalized().subs(self.n, n_val)\n",
    "        E = self.E_n().subs(self.n, n_val)\n",
    "        return u, E\n",
    "\n",
    "    def check_orthonormality(self):\n",
    "        \"\"\"Έλεγχος ορθοκανονικότητας μεταξύ u_n και u_m\"\"\"\n",
    "        u_n_expr = self.u_n_normalized().subs(self.n, self.n)\n",
    "        u_m_expr = self.u_n_normalized().subs(self.n, self.m)\n",
    "        integrand = u_n_expr * u_m_expr\n",
    "        return smp.integrate(integrand, (self.x, 0, self.L))"
   ]
  },
  {
   "cell_type": "markdown",
   "id": "3c21ae84-04e2-4d5e-8cd4-11eba0b06fb4",
   "metadata": {},
   "source": [
    "### α)"
   ]
  },
  {
   "cell_type": "code",
   "execution_count": 17,
   "id": "0c5c56b7-a825-4902-8762-70e6a37492f0",
   "metadata": {},
   "outputs": [
    {
     "data": {
      "text/latex": [
       "$\\displaystyle B \\sin{\\left(k_{0} x \\right)}$"
      ],
      "text/plain": [
       "B*sin(k_0*x)"
      ]
     },
     "metadata": {},
     "output_type": "display_data"
    },
    {
     "data": {
      "text/plain": [
       "[0, pi/L]"
      ]
     },
     "metadata": {},
     "output_type": "display_data"
    },
    {
     "data": {
      "text/latex": [
       "$\\displaystyle \\left\\{\\frac{2 n \\pi}{L}\\; \\middle|\\; n \\in \\mathbb{Z}\\right\\} \\cup \\left\\{\\frac{\\pi \\left(2 n + 1\\right)}{L}\\; \\middle|\\; n \\in \\mathbb{Z}\\right\\}$"
      ],
      "text/plain": [
       "Union(ImageSet(Lambda(_n, pi*(2*_n + 1)/L), Integers), ImageSet(Lambda(_n, 2*_n*pi/L), Integers))"
      ]
     },
     "metadata": {},
     "output_type": "display_data"
    }
   ],
   "source": [
    "# Κυματοσυνάρτηση\n",
    "display(Erotisi2().u())\n",
    "# Λύση της u(L)=0 ως προς k_0\n",
    "display(Erotisi2().solve_k0()[0]) # Πρώτα με την solve\n",
    "display(Erotisi2().solve_k0()[1]) # Μετά με την solveset"
   ]
  },
  {
   "cell_type": "markdown",
   "id": "0e6e3609-9946-4069-a869-94b1b1299a87",
   "metadata": {},
   "source": [
    "Προτιμάμε την solveset που μας δίνει την πλήρη σωστή απάντηση (nπ/L), ενώ η solve μας δίνει μόνο απαντήσεις εντος του πρώτου κύκλου 2π"
   ]
  },
  {
   "cell_type": "markdown",
   "id": "d77b3d74-cc18-4807-a67b-c1ddec6bc4fe",
   "metadata": {},
   "source": [
    "### β)"
   ]
  },
  {
   "cell_type": "code",
   "execution_count": 20,
   "id": "4263e291-c4e2-4cf3-9d72-0e91700a38dd",
   "metadata": {},
   "outputs": [
    {
     "name": "stdout",
     "output_type": "stream",
     "text": [
      "H γενική μορφή της κυματοσυνάρτησης u_n είναι:\n"
     ]
    },
    {
     "data": {
      "text/latex": [
       "$\\displaystyle B \\sin{\\left(\\frac{\\pi n x}{L} \\right)}$"
      ],
      "text/plain": [
       "B*sin(pi*n*x/L)"
      ]
     },
     "metadata": {},
     "output_type": "display_data"
    },
    {
     "name": "stdout",
     "output_type": "stream",
     "text": [
      "H γενική μορφή της ενεργειακής στάθμης E_n είναι:\n"
     ]
    },
    {
     "data": {
      "text/latex": [
       "$\\displaystyle \\frac{\\pi^{2} \\hbar^{2} n^{2}}{2 L^{2} m}$"
      ],
      "text/plain": [
       "pi**2*hbar**2*n**2/(2*L**2*m)"
      ]
     },
     "metadata": {},
     "output_type": "display_data"
    }
   ],
   "source": [
    "# Γενική μορφή κυματοσυνάρτησης\n",
    "print(\"H γενική μορφή της κυματοσυνάρτησης u_n είναι:\")\n",
    "display(Erotisi2().u_n())\n",
    "# Γενική μορφή ενεργειακής στάθμης\n",
    "print(\"H γενική μορφή της ενεργειακής στάθμης E_n είναι:\")\n",
    "display(Erotisi2().E_n())"
   ]
  },
  {
   "cell_type": "markdown",
   "id": "abbe404c-f124-4ea6-9cdb-ecb411899b5d",
   "metadata": {},
   "source": [
    "### γ)"
   ]
  },
  {
   "cell_type": "code",
   "execution_count": 22,
   "id": "c0d11ca0-84d4-485e-9e47-472bb9518e64",
   "metadata": {},
   "outputs": [
    {
     "data": {
      "text/latex": [
       "$\\displaystyle - \\frac{\\sqrt{2}}{\\sqrt{L}}$"
      ],
      "text/plain": [
       "-sqrt(2)/sqrt(L)"
      ]
     },
     "metadata": {},
     "output_type": "display_data"
    },
    {
     "data": {
      "text/latex": [
       "$\\displaystyle \\frac{\\sqrt{2}}{\\sqrt{L}}$"
      ],
      "text/plain": [
       "sqrt(2)/sqrt(L)"
      ]
     },
     "metadata": {},
     "output_type": "display_data"
    }
   ],
   "source": [
    "# Πρισδιορισμός σταθεράς κανονικοποίησης Β μέσω κανονικοποίησης\n",
    "display(Erotisi2().norm_factor()[0], Erotisi2().norm_factor()[1])"
   ]
  },
  {
   "cell_type": "markdown",
   "id": "1e39e659-505c-4e8c-8239-f5c64bbbe880",
   "metadata": {},
   "source": [
    "### δ)"
   ]
  },
  {
   "cell_type": "code",
   "execution_count": 24,
   "id": "48b15987-1a98-4846-b0f5-8fef0dbc37c4",
   "metadata": {},
   "outputs": [
    {
     "name": "stdout",
     "output_type": "stream",
     "text": [
      "Η τελική μορφή της κανονικοποιημένης κυματοσυνάρτησης u_n είναι: \n"
     ]
    },
    {
     "data": {
      "text/latex": [
       "$\\displaystyle \\frac{\\sqrt{2} \\sin{\\left(\\frac{\\pi n x}{L} \\right)}}{\\sqrt{L}}$"
      ],
      "text/plain": [
       "sqrt(2)*sin(pi*n*x/L)/sqrt(L)"
      ]
     },
     "metadata": {},
     "output_type": "display_data"
    },
    {
     "name": "stdout",
     "output_type": "stream",
     "text": [
      "Η κυματοσυνάρτηση και η ενέργεια για την 1η στάθμη είναι:\n"
     ]
    },
    {
     "data": {
      "text/latex": [
       "$\\displaystyle \\frac{\\sqrt{2} \\sin{\\left(\\frac{\\pi x}{L} \\right)}}{\\sqrt{L}}$"
      ],
      "text/plain": [
       "sqrt(2)*sin(pi*x/L)/sqrt(L)"
      ]
     },
     "metadata": {},
     "output_type": "display_data"
    },
    {
     "data": {
      "text/latex": [
       "$\\displaystyle \\frac{\\pi^{2} \\hbar^{2}}{2 L^{2} m}$"
      ],
      "text/plain": [
       "pi**2*hbar**2/(2*L**2*m)"
      ]
     },
     "metadata": {},
     "output_type": "display_data"
    },
    {
     "name": "stdout",
     "output_type": "stream",
     "text": [
      "Η κυματοσυνάρτηση και η ενέργεια για την 2η στάθμη είναι:\n"
     ]
    },
    {
     "data": {
      "text/latex": [
       "$\\displaystyle \\frac{\\sqrt{2} \\sin{\\left(\\frac{2 \\pi x}{L} \\right)}}{\\sqrt{L}}$"
      ],
      "text/plain": [
       "sqrt(2)*sin(2*pi*x/L)/sqrt(L)"
      ]
     },
     "metadata": {},
     "output_type": "display_data"
    },
    {
     "data": {
      "text/latex": [
       "$\\displaystyle \\frac{2 \\pi^{2} \\hbar^{2}}{L^{2} m}$"
      ],
      "text/plain": [
       "2*pi**2*hbar**2/(L**2*m)"
      ]
     },
     "metadata": {},
     "output_type": "display_data"
    },
    {
     "name": "stdout",
     "output_type": "stream",
     "text": [
      "Η κυματοσυνάρτηση και η ενέργεια για την 3η στάθμη είναι:\n"
     ]
    },
    {
     "data": {
      "text/latex": [
       "$\\displaystyle \\frac{\\sqrt{2} \\sin{\\left(\\frac{3 \\pi x}{L} \\right)}}{\\sqrt{L}}$"
      ],
      "text/plain": [
       "sqrt(2)*sin(3*pi*x/L)/sqrt(L)"
      ]
     },
     "metadata": {},
     "output_type": "display_data"
    },
    {
     "data": {
      "text/latex": [
       "$\\displaystyle \\frac{9 \\pi^{2} \\hbar^{2}}{2 L^{2} m}$"
      ],
      "text/plain": [
       "9*pi**2*hbar**2/(2*L**2*m)"
      ]
     },
     "metadata": {},
     "output_type": "display_data"
    },
    {
     "name": "stdout",
     "output_type": "stream",
     "text": [
      "Η κυματοσυνάρτηση και η ενέργεια για την 4η στάθμη είναι:\n"
     ]
    },
    {
     "data": {
      "text/latex": [
       "$\\displaystyle \\frac{\\sqrt{2} \\sin{\\left(\\frac{4 \\pi x}{L} \\right)}}{\\sqrt{L}}$"
      ],
      "text/plain": [
       "sqrt(2)*sin(4*pi*x/L)/sqrt(L)"
      ]
     },
     "metadata": {},
     "output_type": "display_data"
    },
    {
     "data": {
      "text/latex": [
       "$\\displaystyle \\frac{8 \\pi^{2} \\hbar^{2}}{L^{2} m}$"
      ],
      "text/plain": [
       "8*pi**2*hbar**2/(L**2*m)"
      ]
     },
     "metadata": {},
     "output_type": "display_data"
    },
    {
     "name": "stdout",
     "output_type": "stream",
     "text": [
      "Έλεγχος Ορθοκανονικότητας:\n"
     ]
    },
    {
     "data": {
      "text/latex": [
       "$\\displaystyle \\begin{cases} 0 & \\text{for}\\: m \\neq n \\\\1 & \\text{otherwise} \\end{cases}$"
      ],
      "text/plain": [
       "Piecewise((0, Ne(m, n)), (1, True))"
      ]
     },
     "metadata": {},
     "output_type": "display_data"
    }
   ],
   "source": [
    "# Τελική μορφή κυματοσυνάρτησης\n",
    "print(\"Η τελική μορφή της κανονικοποιημένης κυματοσυνάρτησης u_n είναι: \")\n",
    "display(Erotisi2().u_n_normalized())\n",
    "# Κυματοσυνάρτηση και Ενέργεια για n=1,2,3,4\n",
    "n_val = [1, 2, 3, 4] # τιμές του n\n",
    "for i in n_val:\n",
    "    print(f\"Η κυματοσυνάρτηση και η ενέργεια για την {i}η στάθμη είναι:\")\n",
    "    display(Erotisi2().get_state(i)[0], Erotisi2().get_state(i)[1])\n",
    "\n",
    "# Για να έχουμε ορθοκανονική βάση πρέπει το ολοκλήρωμα να μας δίνει 1 για n=m και 0 αλλιώς\n",
    "print(\"Έλεγχος Ορθοκανονικότητας:\")\n",
    "display(Erotisi2().check_orthonormality())"
   ]
  },
  {
   "cell_type": "code",
   "execution_count": null,
   "id": "392c1050-d31b-4e10-a47d-59ea731662be",
   "metadata": {},
   "outputs": [],
   "source": []
  }
 ],
 "metadata": {
  "kernelspec": {
   "display_name": "Python 3 (ipykernel)",
   "language": "python",
   "name": "python3"
  },
  "language_info": {
   "codemirror_mode": {
    "name": "ipython",
    "version": 3
   },
   "file_extension": ".py",
   "mimetype": "text/x-python",
   "name": "python",
   "nbconvert_exporter": "python",
   "pygments_lexer": "ipython3",
   "version": "3.12.3"
  }
 },
 "nbformat": 4,
 "nbformat_minor": 5
}
